{
 "cells": [
  {
   "cell_type": "markdown",
   "metadata": {
    "deletable": false,
    "editable": false,
    "nbgrader": {
     "cell_type": "markdown",
     "checksum": "f3cd338ba770120eed55e933a70b8ced",
     "grade": false,
     "grade_id": "cell-89d849efc2255cc6",
     "locked": true,
     "schema_version": 3,
     "solution": false,
     "task": false
    },
    "slideshow": {
     "slide_type": ""
    },
    "tags": []
   },
   "source": [
    "<h1 style=\"color:rgb(0,120,170)\">Assignment 3: Constrained Optimization, SVMs  CHANGE!!!!!!!!!!!!!</h1>"
   ]
  },
  {
   "cell_type": "markdown",
   "metadata": {
    "deletable": false,
    "editable": false,
    "nbgrader": {
     "cell_type": "markdown",
     "checksum": "2e2dbbfcf501f209c7a43e29a6c725bc",
     "grade": false,
     "grade_id": "cell-f058430543ae99f0",
     "locked": true,
     "schema_version": 3,
     "solution": false,
     "task": false
    }
   },
   "source": [
    "This material, no matter whether in printed or electronic form,\n",
    "may be used for personal and non-commercial educational use\n",
    "only. Any reproduction of this material, no matter whether as a\n",
    "whole or in parts, no matter whether in printed or in electronic\n",
    "form, requires explicit prior acceptance of the authors."
   ]
  },
  {
   "cell_type": "markdown",
   "metadata": {
    "deletable": false,
    "editable": false,
    "nbgrader": {
     "cell_type": "markdown",
     "checksum": "5ddd1c641d11a08a78f823f80d0ad99e",
     "grade": false,
     "grade_id": "cell-722ab34379d827d5",
     "locked": true,
     "schema_version": 3,
     "solution": false,
     "task": false
    },
    "slideshow": {
     "slide_type": ""
    },
    "tags": []
   },
   "source": [
    "<h2 style=\"color:rgb(0,120,170)\">Automatic Testing Guidelines</h2>\n",
    "\n",
    "Automatic unittesting requires you to submit a notebook which contains strictly defined objects.\n",
    "Strictness of definition consists of unified shapes, dtypes, variable names and more.\n",
    "\n",
    "Within the notebook, we provide detailed instruction which you should follow in order to maximise your final grade.\n",
    "\n",
    "**Name your notebook properly**, follow the pattern in the template name:\n",
    "\n",
    "**Assignment_N_NameSurname_matrnumber**\n",
    "<ol>\n",
    "    <li>N - number of assignment</li>\n",
    "    <li>NameSurname - your full name where every part of the name starts with a capital letter, no spaces</li>\n",
    "    <li>matrnumber - you student number on ID card (with k, potenitially with a leading zero)</li>\n",
    "</ol>\n",
    "\n",
    "Don't add any cells but use the ones provided by us. All cells have a unique ID so that the unit test can find it, so please do not add or remove any cell!\n",
    "\n",
    "Always make sure that implemented functions have the correct output and given variables contain the correct data type. In the descriptions for every function you can find information on what datatype an output should have and you should stick to that in order to minimize conflicts with the unittest. Don't import any other packages than listed in the cell with the \"imports\" tag.\n",
    "\n",
    "Questions are usually multiple choice (except the task description says otherwise) and can be answered by changing the given variables to either \"True\" or \"False\". \"None\" is counted as a wrong answer in any case!\n",
    "\n",
    "**Note:** Never use variables you defined in another cell in your functions directly; always pass them to the function as a parameter. In the unitest, they won't be available either. If you want to make sure that everything is executable for the unittest, try executing cells/functions individually (instead of running the whole notebook)."
   ]
  },
  {
   "cell_type": "markdown",
   "metadata": {
    "deletable": false,
    "editable": false,
    "nbgrader": {
     "cell_type": "markdown",
     "checksum": "2d3db11054c5889e6df135456a141fa9",
     "grade": false,
     "grade_id": "cell-36c165046d2c20da",
     "locked": true,
     "schema_version": 3,
     "solution": false,
     "task": false
    }
   },
   "source": [
    "<h2 style=\"color:rgb(0,120,170)\">Task 1: Constrained optimization</h2>"
   ]
  },
  {
   "cell_type": "markdown",
   "metadata": {
    "deletable": false,
    "editable": false,
    "nbgrader": {
     "cell_type": "markdown",
     "checksum": "30c447279749567f0508000e056b9a3d",
     "grade": false,
     "grade_id": "cell-727469a2dde4e78a",
     "locked": true,
     "schema_version": 3,
     "solution": false,
     "task": false
    },
    "slideshow": {
     "slide_type": ""
    },
    "tags": []
   },
   "source": [
    "Consider the following primal (constrained convex optimization) problem: \n",
    "\n",
    "\\begin{align*}\n",
    "\\text{Minimize} \\qquad &f(w_1,w_2) = 2\\,(w_1^4+w_2^4)\n",
    "\\\\\n",
    "\\text{subject to} \\qquad &h(w_1,w_2) = 4-w_1+w_2 \\le 0 \\\\\n",
    "\\end{align*}\n",
    "\n",
    "We try to solve it via two ways. Perform the following tasks:\n",
    "* Compute the Lagrangian $L(w_1,w_2,\\alpha)$.\n",
    "* Calculate its derivatives with respect to $w_1$ and $w_2$ and calculate the zeros of these derivatives ($w_1^*,w_2^*$).\n",
    "\n",
    "First way:\n",
    "\n",
    "* Solve the problem using the KKT conditions.\n",
    "\n",
    "Second way:\n",
    "* Write down the dual problem and solve it directly without(!) the help of the KKT-conditions. Hint: You need the derivative of $\\mathcal{L} = L(w_1^*,w_2^*,\\alpha)$ with respect to $\\alpha$.\n",
    "\n",
    "For your calculation use the given notation."
   ]
  },
  {
   "cell_type": "markdown",
   "metadata": {
    "deletable": false,
    "editable": false,
    "nbgrader": {
     "cell_type": "markdown",
     "checksum": "e7786c1faafa171b1837e84e8fa310be",
     "grade": false,
     "grade_id": "cell-630696da1c32c7c4",
     "locked": true,
     "schema_version": 3,
     "solution": false,
     "task": false
    }
   },
   "source": [
    "<h3 style=\"color:rgb(210,90,80)\">Calculation 1.1 (2 Points):</h3>"
   ]
  },
  {
   "cell_type": "markdown",
   "metadata": {
    "deletable": false,
    "editable": true,
    "nbgrader": {
     "cell_type": "markdown",
     "checksum": "c1104c40bfb362a8e429a4dd43ae8430",
     "grade": true,
     "grade_id": "calculation_1_lagrange",
     "locked": false,
     "points": 2,
     "schema_version": 3,
     "solution": true,
     "task": false
    },
    "slideshow": {
     "slide_type": ""
    },
    "tags": []
   },
   "source": [
    "YOUR ANSWER HERE"
   ]
  },
  {
   "cell_type": "markdown",
   "metadata": {
    "deletable": false,
    "editable": false,
    "nbgrader": {
     "cell_type": "markdown",
     "checksum": "c76b2989aa309b2076b4eea9b00ed538",
     "grade": false,
     "grade_id": "cell-556e0a604bae34d8",
     "locked": true,
     "schema_version": 3,
     "solution": false,
     "task": false
    }
   },
   "source": [
    "<h3 style=\"color:rgb(210,90,80)\">Calculation 1.2 (5 Points):</h3>"
   ]
  },
  {
   "cell_type": "markdown",
   "metadata": {
    "deletable": false,
    "nbgrader": {
     "cell_type": "markdown",
     "checksum": "6a5c1aa54a1f5e02f1e55a5846e665e3",
     "grade": true,
     "grade_id": "calculation_1_derivatives",
     "locked": false,
     "points": 5,
     "schema_version": 3,
     "solution": true,
     "task": false
    }
   },
   "source": [
    "YOUR ANSWER HERE"
   ]
  },
  {
   "cell_type": "markdown",
   "metadata": {
    "deletable": false,
    "editable": false,
    "nbgrader": {
     "cell_type": "markdown",
     "checksum": "219336f84e3f33158b33dc97fde747db",
     "grade": false,
     "grade_id": "cell-222696bbd723f2f3",
     "locked": true,
     "schema_version": 3,
     "solution": false,
     "task": false
    }
   },
   "source": [
    "<h3 style=\"color:rgb(210,90,80)\">Calculation 1.3 (8 Points):</h3>"
   ]
  },
  {
   "cell_type": "markdown",
   "metadata": {
    "deletable": false,
    "nbgrader": {
     "cell_type": "markdown",
     "checksum": "dcbfec6bc1d8852acdfda783b7d1c616",
     "grade": true,
     "grade_id": "calculation_1_kkt",
     "locked": false,
     "points": 8,
     "schema_version": 3,
     "solution": true,
     "task": false
    }
   },
   "source": [
    "YOUR ANSWER HERE"
   ]
  },
  {
   "cell_type": "markdown",
   "metadata": {
    "deletable": false,
    "editable": false,
    "nbgrader": {
     "cell_type": "markdown",
     "checksum": "0943c3cdd1b2133e3f19fa8027af21ff",
     "grade": false,
     "grade_id": "cell-432ec749cf98520f",
     "locked": true,
     "schema_version": 3,
     "solution": false,
     "task": false
    }
   },
   "source": [
    "<h3 style=\"color:rgb(210,90,80)\">Calculation 1.4 (10 Points):</h3>"
   ]
  },
  {
   "cell_type": "markdown",
   "metadata": {
    "deletable": false,
    "nbgrader": {
     "cell_type": "markdown",
     "checksum": "b99bb14e604a30f98f5f81a7089a42ca",
     "grade": true,
     "grade_id": "calculation_1_no_kkt",
     "locked": false,
     "points": 10,
     "schema_version": 3,
     "solution": true,
     "task": false
    }
   },
   "source": [
    "YOUR ANSWER HERE"
   ]
  },
  {
   "cell_type": "markdown",
   "metadata": {
    "deletable": false,
    "editable": false,
    "nbgrader": {
     "cell_type": "markdown",
     "checksum": "af398147279e0323747009af51caa384",
     "grade": false,
     "grade_id": "cell-b7f930d76adba8b0",
     "locked": true,
     "schema_version": 3,
     "solution": false,
     "task": false
    },
    "slideshow": {
     "slide_type": ""
    },
    "tags": []
   },
   "source": [
    "Suppose we replace in the primal optimization problem of C-SVMs the penalty\n",
    "term $\\|\\xi\\|_1=\\sum_{i=1}^l \\xi_i$ with $\\|\\xi\\|_2^2=\\sum_{i=1}^l \\xi_i^2$ (that is we use the quadratic hinge loss instead). Thus, the primal problem we are considering is given as follows (with $C>0$):\n",
    "\n",
    "\\begin{align*}\n",
    "\\text{Minimize} \\qquad &\\frac{1}{2}\\|\\mathbf{w}\\|^2+C \\sum_{i=1}^l \\xi_i^2 \\\\\n",
    "\\text { subject to } \\qquad  &-[y_i\\left(\\mathbf{w} \\cdot \\mathbf{x}_i-b\\right) -1+\\xi_i] \\leq 0 \\\\\n",
    "\\text{and} \\qquad &-\\xi_i \\leq 0 \\ \\ \\textrm{for} \\ \\ i=1,...,l\n",
    "\\end{align*}\n",
    "\n",
    "for all $i=1,...,l$. Give the associated dual optimization problem by making use of the KKT-Theorem and perform the following tasks:\n",
    "\n",
    "* Why can the KKT-Theorem be applied?\n",
    "* Calculate the Lagrange function $L$.\n",
    "* Calculate its derivatives (with respect to $w_i$, $b$ and $\\xi_i$) and compute their zeros. \n",
    "* Write down the dual function (named $\\cal L$ in the slides) and the corresponding dual problem, depending on $2l$ Lagrange multipliers. (You don't need to solve the dual problem.)\n",
    "* Simplify the dual problem so that it only depends on $l$ Lagrange variables. Hint: The maximization with respect to $\\lambda_i$ can be done quite easily. (Again: You don't need to solve the dual problem. Just find the simplified form.)\n",
    "\n",
    "**Please provide reasoning and explanations in full sentences.**"
   ]
  },
  {
   "cell_type": "markdown",
   "metadata": {
    "deletable": false,
    "editable": false,
    "nbgrader": {
     "cell_type": "markdown",
     "checksum": "e1cd97e16781ac99eb538d481d67636f",
     "grade": false,
     "grade_id": "cell-0b10c66189b40891",
     "locked": true,
     "schema_version": 3,
     "solution": false,
     "task": false
    }
   },
   "source": [
    "<h3 style=\"color:rgb(210,90,80)\">Calculation 1.5 (4 Points):</h3>"
   ]
  },
  {
   "cell_type": "markdown",
   "metadata": {
    "deletable": false,
    "nbgrader": {
     "cell_type": "markdown",
     "checksum": "5dd723be3668ace1bba306414b887c59",
     "grade": true,
     "grade_id": "calculation_2_why_kkt",
     "locked": false,
     "points": 4,
     "schema_version": 3,
     "solution": true,
     "task": false
    }
   },
   "source": [
    "YOUR ANSWER HERE"
   ]
  },
  {
   "cell_type": "markdown",
   "metadata": {
    "deletable": false,
    "editable": false,
    "nbgrader": {
     "cell_type": "markdown",
     "checksum": "abb2c98eb55332473e5672d0fdfdd55a",
     "grade": false,
     "grade_id": "cell-a64db7daebf6536d",
     "locked": true,
     "schema_version": 3,
     "solution": false,
     "task": false
    }
   },
   "source": [
    "<h3 style=\"color:rgb(210,90,80)\">Calculation 1.6 (3 Points):</h3>"
   ]
  },
  {
   "cell_type": "markdown",
   "metadata": {
    "deletable": false,
    "nbgrader": {
     "cell_type": "markdown",
     "checksum": "2c1cfc24736a9d38080a1b91efbfa37c",
     "grade": true,
     "grade_id": "calculation_2_lagrange",
     "locked": false,
     "points": 3,
     "schema_version": 3,
     "solution": true,
     "task": false
    }
   },
   "source": [
    "YOUR ANSWER HERE"
   ]
  },
  {
   "cell_type": "markdown",
   "metadata": {
    "deletable": false,
    "editable": false,
    "nbgrader": {
     "cell_type": "markdown",
     "checksum": "4a0d359fd20a822cfa16ecd2891773b6",
     "grade": false,
     "grade_id": "cell-17cb0b3aa5e38975",
     "locked": true,
     "schema_version": 3,
     "solution": false,
     "task": false
    }
   },
   "source": [
    "<h3 style=\"color:rgb(210,90,80)\">Calculation 1.7 (6 Points):</h3>"
   ]
  },
  {
   "cell_type": "markdown",
   "metadata": {
    "deletable": false,
    "nbgrader": {
     "cell_type": "markdown",
     "checksum": "68c25e131931df1472182d20de35cb8c",
     "grade": true,
     "grade_id": "calculation_2_derivatives",
     "locked": false,
     "points": 6,
     "schema_version": 3,
     "solution": true,
     "task": false
    }
   },
   "source": [
    "YOUR ANSWER HERE"
   ]
  },
  {
   "cell_type": "markdown",
   "metadata": {
    "deletable": false,
    "editable": false,
    "nbgrader": {
     "cell_type": "markdown",
     "checksum": "fb47ef34b327436fa85c7e3e703a2bac",
     "grade": false,
     "grade_id": "cell-d4d676376282908c",
     "locked": true,
     "schema_version": 3,
     "solution": false,
     "task": false
    }
   },
   "source": [
    "<h3 style=\"color:rgb(210,90,80)\">Calculation 1.8 (4 Points):</h3>"
   ]
  },
  {
   "cell_type": "markdown",
   "metadata": {
    "deletable": false,
    "nbgrader": {
     "cell_type": "markdown",
     "checksum": "54e656ce19cd3916e10117266d029467",
     "grade": true,
     "grade_id": "calculation_2_dual_func",
     "locked": false,
     "points": 4,
     "schema_version": 3,
     "solution": true,
     "task": false
    }
   },
   "source": [
    "YOUR ANSWER HERE"
   ]
  },
  {
   "cell_type": "markdown",
   "metadata": {
    "deletable": false,
    "editable": false,
    "nbgrader": {
     "cell_type": "markdown",
     "checksum": "cf0b9356f583c9b53f185bf9d945e255",
     "grade": false,
     "grade_id": "cell-ce85d628967883eb",
     "locked": true,
     "schema_version": 3,
     "solution": false,
     "task": false
    }
   },
   "source": [
    "<h3 style=\"color:rgb(210,90,80)\">Calculation 1.9 (8 Points):</h3>"
   ]
  },
  {
   "cell_type": "markdown",
   "metadata": {
    "deletable": false,
    "nbgrader": {
     "cell_type": "markdown",
     "checksum": "695a4feb5cbbf298967bcd2877b89870",
     "grade": true,
     "grade_id": "calculation_2_simplification",
     "locked": false,
     "points": 8,
     "schema_version": 3,
     "solution": true,
     "task": false
    }
   },
   "source": [
    "YOUR ANSWER HERE"
   ]
  },
  {
   "cell_type": "markdown",
   "metadata": {
    "deletable": false,
    "editable": false,
    "nbgrader": {
     "cell_type": "markdown",
     "checksum": "c8d54abe9b9e8473de7fe28fb92c1f28",
     "grade": false,
     "grade_id": "cell-f88e3508452b1974",
     "locked": true,
     "schema_version": 3,
     "solution": false,
     "task": false
    },
    "slideshow": {
     "slide_type": ""
    },
    "tags": []
   },
   "source": [
    "<h2 style=\"color:rgb(0,120,170)\">Task 2: Introduction to Support Vector Machines</h2>\n",
    "\n",
    "The aim of the following task is to equip you with some intuition concerning the application of different SVMs to an easy data set. <br>\n",
    "You should also observe how different versions of the SVMs with different hyperparameters react to additional noise. To this end we provided you with a function `plot_data` which is intended to create proper visualizations of important characteristics of linear and nonlinear SVMs, like the decision border and support vectors. <br>\n",
    "The usual routine for applying SVMs in Python, which is also used here, is given by the following sklearn-package: [SVC](https://scikit-learn.org/stable/modules/generated/sklearn.svm.SVC.html). \n",
    "\n",
    "Your first task is to get familiar with the `plot_data` function by applying it to the easy data set `radial_data.csv`. Iterate over different kernels and hyperparameters (consider the documentation for details), i.e. perform the following tasks:\n",
    "* **Code 2.1**:\n",
    "  * Plot the dataset using the provided functions. (Just execute the existing code.)\n",
    "  * Using the sklearn-package mentioned above, write a function `iter_degree` that applies a SVM with a `polynomial kernel` and `C=10` to the data and iterates over the degrees (i.e. hyperparameter). This function should then plot each fitted model alongside the data using the provided function `plot_data`. `iter_degree` must return a list of model parameters (in the form of dictionaries) for each model you initiated and fitted on our data. The output of `get_params()` is a dictionary; see <a href=\"https://scikit-learn.org/stable/modules/generated/sklearn.svm.SVC.html?highlight=svc#sklearn.svm.SVC.get_params\">sklearn docs</a>. Utilize the `plot_data` function by passing each fitted model and the data itself in order to visualize the results. You will **get 0 points** if you choose to use your **own visualization function over the provided one**!\n",
    "* **Question 2.1**:\n",
    "    * Answer some questions about the resulting plots.\n",
    "* **Code 2.2**:\n",
    "    * Now, write a similar function called `iter_C` that applies a SVM with an `rbf kernel` and `degree=3` to the data and iterates over the given C values (i.e. hyperparameter) and plots the fitted models alongside the data. This function should return something similar to `iter_degree`. Again, you will **get 0 points** if you choose to use your **own visualization function over the provided one**!\n",
    "* **Question 2.2**:\n",
    "    * Again, answer some questions about your results from the previous task.  "
   ]
  },
  {
   "cell_type": "code",
   "execution_count": 1,
   "metadata": {
    "deletable": false,
    "editable": false,
    "nbgrader": {
     "cell_type": "code",
     "checksum": "184ba8f4b6d57072aebb0ab3ff1cc5d6",
     "grade": false,
     "grade_id": "cell-6dac68340fe39990",
     "locked": true,
     "schema_version": 3,
     "solution": false,
     "task": false
    },
    "slideshow": {
     "slide_type": ""
    },
    "tags": []
   },
   "outputs": [],
   "source": [
    "# Nothing to do here, just run the cell.\n",
    "import numpy as np\n",
    "import matplotlib.pyplot as plt\n",
    "import warnings\n",
    "from sklearn import svm\n",
    "warnings.filterwarnings(\"ignore\")"
   ]
  },
  {
   "cell_type": "code",
   "execution_count": 2,
   "metadata": {
    "deletable": false,
    "editable": false,
    "nbgrader": {
     "cell_type": "code",
     "checksum": "4ad52465f0118b437fda281760d7ba02",
     "grade": false,
     "grade_id": "cell-e7b7ab57793beef6",
     "locked": true,
     "schema_version": 3,
     "solution": false,
     "task": false
    },
    "slideshow": {
     "slide_type": ""
    },
    "tags": []
   },
   "outputs": [],
   "source": [
    "# Nothing to do here, just run the cell.\n",
    "def load_data():\n",
    "    \"\"\"Function allows to load data from csv\"\"\"\n",
    "    Z = np.genfromtxt('radial_data.csv', delimiter=',')\n",
    "    \n",
    "    return Z[:,:-1], Z[:,-1]\n",
    "\n",
    "def get_meshgrid(X, resolution):\n",
    "    \"\"\"Function creates space/grid. Used for plotting\"\"\"\n",
    "    s = np.max(np.abs(X))*1.05\n",
    "    ls = np.linspace(-s, s, resolution)\n",
    "    X1,X2 = np.meshgrid(ls, ls, sparse=False)\n",
    "    \n",
    "    return np.c_[X1.ravel(), X2.ravel()]\n",
    "\n",
    "def plot_data(\n",
    "    X,\n",
    "    y, \n",
    "    model = None,\n",
    "    plot_borders = True, \n",
    "    plot_classification = True,  \n",
    "    plot_support_vectors = True,\n",
    "    plot_size = 7, \n",
    "    resolution = 500, \n",
    "    title = 'Data visualization', \n",
    "    color = ['blue','orange']\n",
    "):\n",
    "    \"\"\"Plot data points and an optional model's decision boundaries and classifications.\n",
    "    \n",
    "    Parameters\n",
    "    ----------\n",
    "    X : array-like of shape (n_samples, 2)\n",
    "        Input data points with two features.\n",
    "        \n",
    "    y : array-like of shape (n_samples,)\n",
    "        Target labels for the data points. Assumes binary classification with labels\n",
    "        +1 and -1.\n",
    "        \n",
    "    model : object, optional\n",
    "        A fitted classification model with `predict`, `decision_function`, `support_vectors_`,\n",
    "        `support_`, `kernel`, and possibly `degree` and `C` attributes if applicable. The model\n",
    "        should be compatible with scikit-learn's SVM models.\n",
    "        \n",
    "    plot_borders : bool, default=True\n",
    "        If True, plots the decision boundaries of the model.\n",
    "        \n",
    "    plot_classification : bool, default=True\n",
    "        If True, plots the model's classification regions.\n",
    "        \n",
    "    plot_support_vectors : bool, default=True\n",
    "        If True, highlights the support vectors used by the model, if applicable.\n",
    "        \n",
    "    plot_size : int, default=7\n",
    "        Controls the size of the plot.\n",
    "        \n",
    "    resolution : int, default=500\n",
    "        The resolution of the mesh grid used to plot decision boundaries and classification regions.\n",
    "        \n",
    "    title : str, default='Data visualization'\n",
    "        Title for the plot.\n",
    "        \n",
    "    color : list of str, default=['blue', 'orange']\n",
    "        Colors for the two classes. The first color corresponds to the positive class (+1),\n",
    "        and the second color corresponds to the negative class (-1).\n",
    "    \"\"\"\n",
    "    \n",
    "    if model is not None:#if you want to plot model\n",
    "        if plot_classification and plot_borders:\n",
    "            col=2  #if you want to plot model and borders\n",
    "        else :\n",
    "            col=1  #if you want to plot model only\n",
    "        \n",
    "        fig,axs = plt.subplots(1,col,figsize=(plot_size*col,plot_size))\n",
    "        \n",
    "        grid = get_meshgrid(X, resolution)        \n",
    "        V = model.support_vectors_\n",
    "        mask_sv = model.support_ #np.where(np.isin(X[:,0],V[:,0]))[0] \n",
    "        \n",
    "        kernel = model.kernel\n",
    "        if kernel == 'poly':\n",
    "            title = f\"kernel: {kernel} - degree: {model.degree} - cost:{model.C}\"\n",
    "        elif kernel == 'rbf':\n",
    "            title = f\"kernel: {kernel}\"\n",
    "            if model.gamma != \"auto_deprecated\" :\n",
    "                title+= f\" - gamma: {model.gamma}\" \n",
    "            title += f\" - cost: {model.C}\"\n",
    "                \n",
    "        for i in range(col): \n",
    "            if col>1:\n",
    "                ax = axs[i]\n",
    "            else:\n",
    "                ax = axs\n",
    "            ax.set_aspect('equal')\n",
    "            if i==0 and plot_borders:\n",
    "                ax.set_title('Margins - ' + title,fontsize=plot_size*2)\n",
    "                ax.set_xlabel(\"$x_1$\")\n",
    "                ax.set_ylabel(\"$x_2$\")\n",
    "                borders = model.decision_function(grid)\n",
    "                mask_pos = borders >= 1\n",
    "                mask_neg = borders <= -1\n",
    "                ax.scatter(grid[mask_pos,0], grid[mask_pos,1], c=color[0], alpha=0.01, s=10)\n",
    "                ax.scatter(grid[mask_neg,0], grid[mask_neg,1], c=color[1], alpha=0.01, s=10)\n",
    "                ax.scatter(X[mask_sv,0], X[mask_sv,1], c='g',label= str(np.sum(model.n_support_)) +' SV',s=40,marker='o')\n",
    "            if plot_classification and (i==1 or not plot_borders):\n",
    "                ax.set_title('Classification - ' + title,fontsize=plot_size*2)\n",
    "                ax.set_xlabel(\"$x_1$\")\n",
    "                ax.set_ylabel(\"$x_2$\")\n",
    "                classification = model.predict(grid)\n",
    "                mask_pos = classification > 0\n",
    "                mask_neg = classification < 0\n",
    "                ax.scatter(grid[mask_pos,0], grid[mask_pos,1], c=color[0], alpha=0.01, s=10)\n",
    "                ax.scatter(grid[mask_neg,0], grid[mask_neg,1], c=color[1], alpha=0.01, s=10)\n",
    "                classification = model.predict(X)\n",
    "                mask_wrong = classification != y \n",
    "                ax.scatter(X[mask_wrong,0], X[mask_wrong,1], c='magenta',label=str(np.sum(mask_wrong)) + ' faults',s=40,marker='o')\n",
    "            m = y > 0\n",
    "            ax.scatter(X[m,0], X[m,1], c=color[0],label='class +1',s=10)\n",
    "            m = np.logical_not(m)\n",
    "            ax.scatter(X[m,0], X[m,1], c=color[1],label='class -1',s=10)\n",
    "            ax.legend(loc='lower left', fontsize=plot_size*1.5)   \n",
    "    \n",
    "    else:\n",
    "        fig,axs = plt.subplots(1,1,figsize=(plot_size,plot_size))\n",
    "        axs.set_aspect('equal')\n",
    "        m = y > 0\n",
    "        axs.scatter(X[m,0], X[m,1], c=color[0],label='class +1',s=10)\n",
    "        m = np.logical_not(m)\n",
    "        axs.scatter(X[m,0], X[m,1], c=color[1],label='class -1',s=10)\n",
    "        axs.legend(loc='lower left', fontsize=plot_size*1.5)\n",
    "        plt.xlabel(\"$x_1$\")\n",
    "        plt.ylabel(\"$x_2$\")\n",
    "        plt.title(title, fontsize=plot_size*2)\n",
    "        \n",
    "    plt.show()"
   ]
  },
  {
   "cell_type": "markdown",
   "metadata": {
    "deletable": false,
    "editable": false,
    "nbgrader": {
     "cell_type": "markdown",
     "checksum": "e57cccbfae0c314751b6f94bdffac742",
     "grade": false,
     "grade_id": "cell-0f7d26badf0d736c",
     "locked": true,
     "schema_version": 3,
     "solution": false,
     "task": false
    }
   },
   "source": [
    "<h3 style=\"color:rgb(210,90,80)\">Code 2.1 (5 Points):</h3>"
   ]
  },
  {
   "cell_type": "code",
   "execution_count": 3,
   "metadata": {
    "deletable": false,
    "editable": false,
    "nbgrader": {
     "cell_type": "code",
     "checksum": "d7719494c69eb3fe182903ef16608ee0",
     "grade": false,
     "grade_id": "cell-d915aaff55e17b84",
     "locked": true,
     "schema_version": 3,
     "solution": false,
     "task": false
    },
    "slideshow": {
     "slide_type": ""
    },
    "tags": []
   },
   "outputs": [],
   "source": [
    "# Nothing to do here, just run the cell.\n",
    "X, y = load_data()"
   ]
  },
  {
   "cell_type": "code",
   "execution_count": 4,
   "metadata": {
    "deletable": false,
    "editable": false,
    "nbgrader": {
     "cell_type": "code",
     "checksum": "1cbd37368f103c355c081abf75f7bd28",
     "grade": false,
     "grade_id": "cell-5c368a05121518f6",
     "locked": true,
     "schema_version": 3,
     "solution": false,
     "task": false
    },
    "slideshow": {
     "slide_type": ""
    },
    "tags": []
   },
   "outputs": [
    {
     "data": {
      "image/png": "[encoded data removed]",
      "text/plain": [
       "<Figure size 700x700 with 1 Axes>"
      ]
     },
     "metadata": {},
     "output_type": "display_data"
    }
   ],
   "source": [
    "# Nothing to do here, just run the cell.\n",
    "plot_data(X, y)"
   ]
  },
  {
   "cell_type": "code",
   "execution_count": 5,
   "metadata": {
    "deletable": false,
    "editable": true,
    "nbgrader": {
     "cell_type": "code",
     "checksum": "38c752403074c9357d6adb0cb065bdfd",
     "grade": false,
     "grade_id": "iter_degree",
     "locked": false,
     "schema_version": 3,
     "solution": true,
     "task": false
    },
    "slideshow": {
     "slide_type": ""
    },
    "tags": []
   },
   "outputs": [],
   "source": [
    "def iter_degree(degrees: range, X: np.ndarray, y: np.ndarray) -> list[dict]:\n",
    "    \"\"\"Fit an SVM with polynomial kernel and C=10 of varying degrees and plot each variation.\n",
    "\n",
    "    This function iterates over a specified range of polynomial degrees, fits an\n",
    "    SVM model with each degree, and plots the decision boundaries. The parameters \n",
    "    of each model are stored in a dictionary and returned in a list.\n",
    "\n",
    "    Parameters\n",
    "    ----------\n",
    "    degrees : range\n",
    "        Range of integer values representing the polynomial degrees to use for the SVM model.\n",
    "    X : (N, 2) np.ndarray\n",
    "        Data matrix containing the training data.\n",
    "    y : (N,) np.ndarray\n",
    "        Target vector containing the labels.\n",
    "\n",
    "    Returns\n",
    "    -------\n",
    "    list of dict\n",
    "        A list of dictionaries, where each dictionary contains the parameters of an SVM model\n",
    "        with a specific polynomial degree. The length of the list is equal to the length of `degrees`.\n",
    "    \"\"\"\n",
    "    # YOUR CODE HERE\n",
    "    raise NotImplementedError()"
   ]
  },
  {
   "cell_type": "code",
   "execution_count": 6,
   "metadata": {
    "deletable": false,
    "editable": false,
    "nbgrader": {
     "cell_type": "code",
     "checksum": "9c5959046227e13ebecb61652a650827",
     "grade": false,
     "grade_id": "cell-11f8263fc89bbda7",
     "locked": true,
     "schema_version": 3,
     "solution": false,
     "task": false
    },
    "slideshow": {
     "slide_type": ""
    },
    "tags": []
   },
   "outputs": [
    {
     "ename": "NotImplementedError",
     "evalue": "",
     "output_type": "error",
     "traceback": [
      "\u001b[0;31m---------------------------------------------------------------------------\u001b[0m",
      "\u001b[0;31mNotImplementedError\u001b[0m                       Traceback (most recent call last)",
      "Cell \u001b[0;32mIn[6], line 3\u001b[0m\n\u001b[1;32m      1\u001b[0m \u001b[38;5;66;03m# Nothing to do here, just run the cell.\u001b[39;00m\n\u001b[1;32m      2\u001b[0m degrees \u001b[38;5;241m=\u001b[39m \u001b[38;5;28mrange\u001b[39m(\u001b[38;5;241m1\u001b[39m, \u001b[38;5;241m6\u001b[39m)\n\u001b[0;32m----> 3\u001b[0m models_degree \u001b[38;5;241m=\u001b[39m \u001b[43miter_degree\u001b[49m\u001b[43m(\u001b[49m\u001b[43mdegrees\u001b[49m\u001b[43m,\u001b[49m\u001b[43m \u001b[49m\u001b[43mX\u001b[49m\u001b[43m,\u001b[49m\u001b[43m \u001b[49m\u001b[43my\u001b[49m\u001b[43m)\u001b[49m\n",
      "Cell \u001b[0;32mIn[5], line 24\u001b[0m, in \u001b[0;36miter_degree\u001b[0;34m(degrees, X, y)\u001b[0m\n\u001b[1;32m      2\u001b[0m \u001b[38;5;250m\u001b[39m\u001b[38;5;124;03m\"\"\"Fit an SVM with polynomial kernel and C=10 of varying degrees and plot each variation.\u001b[39;00m\n\u001b[1;32m      3\u001b[0m \n\u001b[1;32m      4\u001b[0m \u001b[38;5;124;03mThis function iterates over a specified range of polynomial degrees, fits an\u001b[39;00m\n\u001b[0;32m   (...)\u001b[0m\n\u001b[1;32m     21\u001b[0m \u001b[38;5;124;03m    with a specific polynomial degree. The length of the list is equal to the length of `degrees`.\u001b[39;00m\n\u001b[1;32m     22\u001b[0m \u001b[38;5;124;03m\"\"\"\u001b[39;00m\n\u001b[1;32m     23\u001b[0m \u001b[38;5;66;03m# YOUR CODE HERE\u001b[39;00m\n\u001b[0;32m---> 24\u001b[0m \u001b[38;5;28;01mraise\u001b[39;00m \u001b[38;5;167;01mNotImplementedError\u001b[39;00m()\n",
      "\u001b[0;31mNotImplementedError\u001b[0m: "
     ]
    }
   ],
   "source": [
    "# Nothing to do here, just run the cell.\n",
    "degrees = range(1, 6)\n",
    "models_degree = iter_degree(degrees, X, y)"
   ]
  },
  {
   "cell_type": "code",
   "execution_count": null,
   "metadata": {
    "deletable": false,
    "editable": false,
    "nbgrader": {
     "cell_type": "code",
     "checksum": "664b0065b228457dcc3bed7caf0412fc",
     "grade": true,
     "grade_id": "iter_degree_test",
     "locked": true,
     "points": 5,
     "schema_version": 3,
     "solution": false,
     "task": false
    },
    "slideshow": {
     "slide_type": ""
    },
    "tags": []
   },
   "outputs": [],
   "source": [
    "# DO NOT DELETE THIS CELL!\n",
    "assert isinstance(models_degree, list), \"The output of iter_degree is not a list!\"\n",
    "assert len(models_degree) == len(degrees), \"Some models are missing!\"\n",
    "assert all(isinstance(model, dict) for model in models_degree), \"At least one of the elements in the list is not a dictionary!\""
   ]
  },
  {
   "cell_type": "markdown",
   "metadata": {
    "deletable": false,
    "editable": false,
    "nbgrader": {
     "cell_type": "markdown",
     "checksum": "73b340df3be8fd0ada7c96eaf690c62c",
     "grade": false,
     "grade_id": "cell-e7827f3b749eab63",
     "locked": true,
     "schema_version": 3,
     "solution": false,
     "task": false
    },
    "slideshow": {
     "slide_type": ""
    },
    "tags": []
   },
   "source": [
    "<h3 style=\"color:rgb(210,90,80)\">Question 2.1 (6 Points):</h3>\n",
    "\n",
    "What observations can you make from your plots? (several answers may be correct)\n",
    "\n",
    "\n",
    "a1_) The SVM with polynomial degree 2 already seems to do quite well on the data set.<br>\n",
    "b1_) The higher the polynomial degree, the better the classifier.<br>\n",
    "c1_) A very high number of support vectors seems to be an indicator of a good choice of the kernel.<br>\n",
    "\n",
    "d1_) There is only small difference between the pictures that were produced by polynomial kernels of even degree.<br>\n",
    "e1_) For kernels with an odd degree, the number of misclassified samples decreases with an increasing degree.<br>\n",
    "f1_) For odd degrees, one can see that the model complexity increases with increasing degree.\n",
    "\n",
    "To answer the question, assign `True` or `False` boolean values to variables in the next cell. For example, if you think that **a1_)** is correct, define a variable `a1_` and set it to `True`, the same applies to **b1_)** and the other options. A non-correctly answered question as well as no answer (i.e. answer “None”) yields 0 points for a specific question.<br>"
   ]
  },
  {
   "cell_type": "code",
   "execution_count": null,
   "metadata": {
    "deletable": false,
    "editable": true,
    "nbgrader": {
     "cell_type": "code",
     "checksum": "1b9423cc48feae452b5f698571e2d861",
     "grade": false,
     "grade_id": "question_2_1",
     "locked": false,
     "schema_version": 3,
     "solution": true,
     "task": false
    },
    "slideshow": {
     "slide_type": ""
    },
    "tags": []
   },
   "outputs": [],
   "source": [
    "# YOUR CODE HERE\n",
    "raise NotImplementedError()"
   ]
  },
  {
   "cell_type": "code",
   "execution_count": null,
   "metadata": {
    "deletable": false,
    "editable": false,
    "nbgrader": {
     "cell_type": "code",
     "checksum": "4a043f7228963c2b067623be4c018aa0",
     "grade": true,
     "grade_id": "a1",
     "locked": true,
     "points": 1,
     "schema_version": 3,
     "solution": false,
     "task": false
    },
    "slideshow": {
     "slide_type": ""
    },
    "tags": []
   },
   "outputs": [],
   "source": [
    "# DO NOT DELETE THIS CELL!\n",
    "assert a1_ is not None, \"Store True/False!\"\n",
    "assert a1_ in [True, False], \"Invalid Answer!\""
   ]
  },
  {
   "cell_type": "code",
   "execution_count": null,
   "metadata": {
    "deletable": false,
    "editable": false,
    "nbgrader": {
     "cell_type": "code",
     "checksum": "03b4cc2fb8f81a1a8fcf79ba6f7dbe36",
     "grade": true,
     "grade_id": "b1",
     "locked": true,
     "points": 1,
     "schema_version": 3,
     "solution": false,
     "task": false
    },
    "slideshow": {
     "slide_type": ""
    },
    "tags": []
   },
   "outputs": [],
   "source": [
    "# DO NOT DELETE THIS CELL!\n",
    "assert b1_ is not None, \"Store True/False!\"\n",
    "assert b1_ in [True, False], \"Invalid Answer!\""
   ]
  },
  {
   "cell_type": "code",
   "execution_count": null,
   "metadata": {
    "deletable": false,
    "editable": false,
    "nbgrader": {
     "cell_type": "code",
     "checksum": "7f967ad69ee9e2ff208d8de7d18aaeee",
     "grade": true,
     "grade_id": "c1",
     "locked": true,
     "points": 1,
     "schema_version": 3,
     "solution": false,
     "task": false
    }
   },
   "outputs": [],
   "source": [
    "# DO NOT DELETE THIS CELL!\n",
    "assert c1_ is not None, \"Store True/False!\"\n",
    "assert c1_ in [True, False], \"Invalid Answer!\""
   ]
  },
  {
   "cell_type": "code",
   "execution_count": null,
   "metadata": {
    "deletable": false,
    "editable": false,
    "nbgrader": {
     "cell_type": "code",
     "checksum": "20fcc4d3ac770c06f819fb90f0363763",
     "grade": true,
     "grade_id": "d1",
     "locked": true,
     "points": 1,
     "schema_version": 3,
     "solution": false,
     "task": false
    }
   },
   "outputs": [],
   "source": [
    "# DO NOT DELETE THIS CELL!\n",
    "assert d1_ is not None, \"Store True/False!\"\n",
    "assert d1_ in [True, False], \"Invalid Answer!\""
   ]
  },
  {
   "cell_type": "code",
   "execution_count": null,
   "metadata": {
    "deletable": false,
    "editable": false,
    "nbgrader": {
     "cell_type": "code",
     "checksum": "35c7e9c5e959100ca29b498a5cdb2803",
     "grade": true,
     "grade_id": "e1",
     "locked": true,
     "points": 1,
     "schema_version": 3,
     "solution": false,
     "task": false
    }
   },
   "outputs": [],
   "source": [
    "# DO NOT DELETE THIS CELL!\n",
    "assert e1_ is not None, \"Store True/False!\"\n",
    "assert e1_ in [True, False], \"Invalid Answer!\""
   ]
  },
  {
   "cell_type": "code",
   "execution_count": null,
   "metadata": {
    "deletable": false,
    "editable": false,
    "nbgrader": {
     "cell_type": "code",
     "checksum": "6a497344cccf3746db56be65cdface71",
     "grade": true,
     "grade_id": "f1",
     "locked": true,
     "points": 1,
     "schema_version": 3,
     "solution": false,
     "task": false
    }
   },
   "outputs": [],
   "source": [
    "# DO NOT DELETE THIS CELL!\n",
    "assert f1_ is not None, \"Store True/False!\"\n",
    "assert f1_ in [True, False], \"Invalid Answer!\""
   ]
  },
  {
   "cell_type": "markdown",
   "metadata": {
    "deletable": false,
    "editable": false,
    "nbgrader": {
     "cell_type": "markdown",
     "checksum": "ff4e8a9e0bdb8894ac70fee0943aebfe",
     "grade": false,
     "grade_id": "cell-23343ceeb7b685dc",
     "locked": true,
     "schema_version": 3,
     "solution": false,
     "task": false
    }
   },
   "source": [
    "<h3 style=\"color:rgb(210,90,80)\">Code 2.2 (5 Points):</h3>"
   ]
  },
  {
   "cell_type": "code",
   "execution_count": null,
   "metadata": {
    "deletable": false,
    "editable": true,
    "nbgrader": {
     "cell_type": "code",
     "checksum": "f80f0e10d9b97924b9ac56fae097319a",
     "grade": false,
     "grade_id": "iter_C",
     "locked": false,
     "schema_version": 3,
     "solution": true,
     "task": false
    },
    "slideshow": {
     "slide_type": ""
    },
    "tags": []
   },
   "outputs": [],
   "source": [
    "def iter_C(C_values: list[float], X: np.ndarray, y: np.ndarray) -> list[dict]:\n",
    "    \"\"\"Iteratively trains SVM models with different values of the regularization parameter `C`, \n",
    "    plots the decision boundaries for each model, and returns a list of model parameters.\n",
    "    \n",
    "    Parameters\n",
    "    ----------\n",
    "    C_values : list of float\n",
    "        A list of values for the regularization parameter `C` to be used in training the SVM models.\n",
    "    X : (N, 2) np.ndarray\n",
    "        Data matrix containing the training data.\n",
    "    y : (N,) np.ndarray\n",
    "        Target vector containing the labels.\n",
    "        \n",
    "    Returns\n",
    "    -------\n",
    "    list of dict\n",
    "        A list of dictionaries, where each dictionary contains the parameters of the trained SVM model \n",
    "        for a specific value of `C`.\n",
    "    \"\"\"\n",
    "    # YOUR CODE HERE\n",
    "    raise NotImplementedError()"
   ]
  },
  {
   "cell_type": "code",
   "execution_count": null,
   "metadata": {
    "deletable": false,
    "editable": false,
    "nbgrader": {
     "cell_type": "code",
     "checksum": "030ad2c7e6dfd82ecc93470fd3eaff40",
     "grade": false,
     "grade_id": "cell-9ede77b47257220f",
     "locked": true,
     "schema_version": 3,
     "solution": false,
     "task": false
    },
    "slideshow": {
     "slide_type": ""
    },
    "tags": []
   },
   "outputs": [],
   "source": [
    "# Nothing to do here, just run the cell.\n",
    "C_values = [0.1, 1, 10, 100, 1000]\n",
    "models_C = iter_C(C_values, X, y)"
   ]
  },
  {
   "cell_type": "code",
   "execution_count": null,
   "metadata": {
    "deletable": false,
    "editable": false,
    "nbgrader": {
     "cell_type": "code",
     "checksum": "3dc4b8550638a68131a7bb54dc4d5619",
     "grade": true,
     "grade_id": "iter_C_test",
     "locked": true,
     "points": 5,
     "schema_version": 3,
     "solution": false,
     "task": false
    },
    "slideshow": {
     "slide_type": ""
    },
    "tags": []
   },
   "outputs": [],
   "source": [
    "# DO NOT DELETE THIS CELL!\n",
    "assert isinstance(models_C, list), \"The output of iter_degree is not a list!\"\n",
    "assert len(models_C) == len(C_values), \"Some models are missing!\"\n",
    "assert all(isinstance(model, dict) for model in models_C), \"At least one of the elements in the list is not a dictionary!\""
   ]
  },
  {
   "cell_type": "markdown",
   "metadata": {
    "deletable": false,
    "editable": false,
    "nbgrader": {
     "cell_type": "markdown",
     "checksum": "1f6dd2b0fa95f7aa9d3872caccc580cf",
     "grade": false,
     "grade_id": "cell-0b5f284a1b9972c1",
     "locked": true,
     "schema_version": 3,
     "solution": false,
     "task": false
    },
    "slideshow": {
     "slide_type": ""
    },
    "tags": []
   },
   "source": [
    "<h3 style=\"color:rgb(210,90,80)\">Question 2.2 (6 points):</h3>\n",
    "\n",
    "What observations can you make from your plots? Evaluate, if the given statements are true of false (several options may be correct):\n",
    "  \n",
    "a2_)  The higher the cost, the more support vectors we have. <br>\n",
    "b2_)  The decision borders don't change drastically with increasing $C$, only the number of support vectors does.<br>\n",
    "c2_)  The lower the cost, the larger the margin.<br>\n",
    "\n",
    "To answer the question, assign `True` or `False` boolean values to variables in the next cell. For example, if you think that **a2_)** is correct, define a variable `a2_` and set it to `True`, the same applies to **b2_)** and the other option. A non-correctly answered question as well as no answer (i.e. answer “None”) yields 0 points for a specific question.<br>"
   ]
  },
  {
   "cell_type": "code",
   "execution_count": null,
   "metadata": {
    "deletable": false,
    "editable": true,
    "nbgrader": {
     "cell_type": "code",
     "checksum": "c9aabdcd1f3fca0ca967a7abd7c683ab",
     "grade": false,
     "grade_id": "question_2_2",
     "locked": false,
     "schema_version": 3,
     "solution": true,
     "task": false
    },
    "slideshow": {
     "slide_type": ""
    },
    "tags": []
   },
   "outputs": [],
   "source": [
    "# YOUR CODE HERE\n",
    "raise NotImplementedError()"
   ]
  },
  {
   "cell_type": "code",
   "execution_count": null,
   "metadata": {
    "deletable": false,
    "editable": false,
    "nbgrader": {
     "cell_type": "code",
     "checksum": "8c45a802cabaf85950d99bbe5c85d733",
     "grade": true,
     "grade_id": "a2",
     "locked": true,
     "points": 2,
     "schema_version": 3,
     "solution": false,
     "task": false
    },
    "slideshow": {
     "slide_type": ""
    },
    "tags": []
   },
   "outputs": [],
   "source": [
    "# DO NOT DELETE THIS CELL!\n",
    "assert a2_ is not None, \"Store True/False!\"\n",
    "assert a2_ in [True, False], \"Invalid Answer!\""
   ]
  },
  {
   "cell_type": "code",
   "execution_count": null,
   "metadata": {
    "deletable": false,
    "editable": false,
    "nbgrader": {
     "cell_type": "code",
     "checksum": "5addabd9afcc506588c9db81756fd91f",
     "grade": true,
     "grade_id": "b2",
     "locked": true,
     "points": 2,
     "schema_version": 3,
     "solution": false,
     "task": false
    },
    "slideshow": {
     "slide_type": ""
    },
    "tags": []
   },
   "outputs": [],
   "source": [
    "# DO NOT DELETE THIS CELL!\n",
    "assert b2_ is not None, \"Store True/False!\"\n",
    "assert b2_ in [True, False], \"Invalid Answer!\""
   ]
  },
  {
   "cell_type": "code",
   "execution_count": null,
   "metadata": {
    "deletable": false,
    "editable": false,
    "nbgrader": {
     "cell_type": "code",
     "checksum": "37ed512a1d04a610d897c92283260e5c",
     "grade": true,
     "grade_id": "c2",
     "locked": true,
     "points": 2,
     "schema_version": 3,
     "solution": false,
     "task": false
    }
   },
   "outputs": [],
   "source": [
    "# DO NOT DELETE THIS CELL!\n",
    "assert c2_ is not None, \"Store True/False!\"\n",
    "assert c2_ in [True, False], \"Invalid Answer!\""
   ]
  },
  {
   "cell_type": "markdown",
   "metadata": {
    "deletable": false,
    "editable": false,
    "nbgrader": {
     "cell_type": "markdown",
     "checksum": "41c8649f9bc802f1a8cf9e1adddcdcff",
     "grade": false,
     "grade_id": "cell-e5d4142ae2f0302b",
     "locked": true,
     "schema_version": 3,
     "solution": false,
     "task": false
    }
   },
   "source": [
    "<h2 style=\"color:rgb(0,120,170)\">Task 3: SVM with new data</h2>"
   ]
  },
  {
   "cell_type": "markdown",
   "metadata": {
    "deletable": false,
    "editable": false,
    "nbgrader": {
     "cell_type": "markdown",
     "checksum": "4f891541ebbda8168c62a77afb6602eb",
     "grade": false,
     "grade_id": "cell-251fa5ac20f6990d",
     "locked": true,
     "schema_version": 3,
     "solution": false,
     "task": false
    },
    "slideshow": {
     "slide_type": ""
    },
    "tags": []
   },
   "source": [
    "* **Code 3.1**:\n",
    "    * Use the given function (polar-to-cartesian) `pol2cart()` in order to generate **100 two-dimensional** data points which are **uniformly** distributed across the area of a circle with a radius of `r=0.25`. Label these points with `-1` and add them to the given `X` data matrix and `y` label vector. Note: In polar coordinates, in order to get uniformly distributed samples, you sample the angle uniformly, but be careful with the radius. If you simply sample the radius uniformly, you will not end up with uniformly sampled points within the circle. Hint: Have a look at the formula for the area of a circle and use [np.random.rand](https://numpy.org/doc/2.0/reference/random/generated/numpy.random.rand.html) for sampling points from a uniform distribution.\n",
    "* **Code 3.2**:\n",
    "    * Now use an `rbf kernel` (which is the default option for `sklearn.svm.SVC`) and again play around with the parameters to explore the effects on the classification performance by appropriately using the `plot_data` function. Write a function `iter_gamma_C`, analogous to `iter_degree` and `iter_C`. `iter_gamma_C` iterates over different costs $C$ and over different values of $\\gamma := 1/(2\\sigma^2)$ (compare with the RBF definition in the lecture slides).\n",
    "* **Question 3.2**:\n",
    "    * Answer some questions about your plots.  "
   ]
  },
  {
   "cell_type": "markdown",
   "metadata": {
    "deletable": false,
    "editable": false,
    "nbgrader": {
     "cell_type": "markdown",
     "checksum": "2fa5c16d5c2de18bafab87b798dd8e5f",
     "grade": false,
     "grade_id": "cell-eec2ab210e30b027",
     "locked": true,
     "schema_version": 3,
     "solution": false,
     "task": false
    }
   },
   "source": [
    "<h3 style=\"color:rgb(210,90,80)\">Code 3.1 (7 Points):</h3>"
   ]
  },
  {
   "cell_type": "code",
   "execution_count": null,
   "metadata": {
    "deletable": false,
    "editable": false,
    "nbgrader": {
     "cell_type": "code",
     "checksum": "356e40a843b7f515d90919c3913f6b3b",
     "grade": false,
     "grade_id": "cell-cc671e0bcca32abd",
     "locked": true,
     "schema_version": 3,
     "solution": false,
     "task": false
    },
    "slideshow": {
     "slide_type": ""
    },
    "tags": []
   },
   "outputs": [],
   "source": [
    "# Nothing to do here, just run the cell.\n",
    "def pol2cart(r: np.ndarray, phi: np.ndarray) -> tuple[np.ndarray, np.ndarray]:\n",
    "    \"\"\"Function that converts arrays of polar coordinates to arrays of cartesian coordinates.\"\"\"\n",
    "    x = r * np.cos(phi)\n",
    "    y = r * np.sin(phi)\n",
    "    \n",
    "    return x, y"
   ]
  },
  {
   "cell_type": "code",
   "execution_count": null,
   "metadata": {
    "deletable": false,
    "editable": true,
    "nbgrader": {
     "cell_type": "code",
     "checksum": "3fdb79125fd09d6fbe5f47020f9d2341",
     "grade": false,
     "grade_id": "create_new_data",
     "locked": false,
     "schema_version": 3,
     "solution": true,
     "task": false
    },
    "slideshow": {
     "slide_type": ""
    },
    "tags": []
   },
   "outputs": [],
   "source": [
    "def create_new_data(X: np.ndarray, y: np.ndarray) -> tuple[np.ndarray, np.ndarray]:\n",
    "    \"\"\"Generates 100 uniformly distributed 2D data points within a circle of radius 0.25,\n",
    "    labels them as -1, and appends them to the existing data.\n",
    "\n",
    "    Parameters\n",
    "    ----------\n",
    "    X : (N, 2) np.ndarray\n",
    "        Original data matrix.\n",
    "    y : (N,) np.ndarray\n",
    "        Original label vector.\n",
    "\n",
    "    Returns\n",
    "    -------\n",
    "    tuple of np.ndarray\n",
    "        - X_new : (N+100, 2) np.ndarray\n",
    "            New data matrix.\n",
    "        - y_new : (N+100,) np.ndarray\n",
    "            New label vector.\n",
    "    \"\"\"\n",
    "    \n",
    "    # YOUR CODE HERE\n",
    "    raise NotImplementedError()"
   ]
  },
  {
   "cell_type": "code",
   "execution_count": null,
   "metadata": {
    "deletable": false,
    "editable": false,
    "nbgrader": {
     "cell_type": "code",
     "checksum": "1d24898f34ffc13d0129ed0ccfb31349",
     "grade": true,
     "grade_id": "create_new_data_test",
     "locked": true,
     "points": 7,
     "schema_version": 3,
     "solution": false,
     "task": false
    },
    "slideshow": {
     "slide_type": ""
    },
    "tags": []
   },
   "outputs": [],
   "source": [
    "# DO NOT DELETE THIS CELL!\n",
    "X_new, y_new = create_new_data(X, y)\n",
    "assert isinstance(X_new, np.ndarray) and isinstance(y_new, np.ndarray), \"Both outputs must be a np.ndarray!\"\n",
    "assert X_new.shape == (X.shape[0]+100, X.shape[1]), \"You should add exactly 100 data points!\"\n",
    "assert all(y_new[-100:] == -1), \"The new samples should have the label -1!\"\n",
    "assert all(np.sqrt(X_new[-100:, 0]**2 + X_new[-100:, 1]**2) <= 0.25), \"Some samples do not lie within a circle of radius 0.25!\""
   ]
  },
  {
   "cell_type": "code",
   "execution_count": null,
   "metadata": {
    "deletable": false,
    "editable": false,
    "nbgrader": {
     "cell_type": "code",
     "checksum": "bb1c91c183e8d4647d15239337988915",
     "grade": false,
     "grade_id": "cell-80f080d3d02a2587",
     "locked": true,
     "schema_version": 3,
     "solution": false,
     "task": false
    },
    "slideshow": {
     "slide_type": ""
    },
    "tags": []
   },
   "outputs": [],
   "source": [
    "# Nothing to do here, just run the cell.\n",
    "plot_data(X_new, y_new)"
   ]
  },
  {
   "cell_type": "markdown",
   "metadata": {
    "deletable": false,
    "editable": false,
    "nbgrader": {
     "cell_type": "markdown",
     "checksum": "0cf59026987185f4fda3b57a68ef7521",
     "grade": false,
     "grade_id": "cell-918aad5fa8112407",
     "locked": true,
     "schema_version": 3,
     "solution": false,
     "task": false
    }
   },
   "source": [
    "<h3 style=\"color:rgb(210,90,80)\">Code 3.2 (6 Points):</h3>"
   ]
  },
  {
   "cell_type": "code",
   "execution_count": null,
   "metadata": {
    "deletable": false,
    "editable": true,
    "nbgrader": {
     "cell_type": "code",
     "checksum": "cb686376717e65b56e1df95e631e265b",
     "grade": false,
     "grade_id": "iter_gamma_C",
     "locked": false,
     "schema_version": 3,
     "solution": true,
     "task": false
    },
    "slideshow": {
     "slide_type": ""
    },
    "tags": []
   },
   "outputs": [],
   "source": [
    "def iter_gamma_C(gamma_range: list[float], C_values: list[float], X: np.ndarray, y: np.ndarray) -> list[dict]:\n",
    "    \"\"\"Fits an SVM model for each combination of gamma and C values and plots the results.\n",
    "\n",
    "    Parameters\n",
    "    ----------\n",
    "    gamma_range : list of float\n",
    "        List of gamma values for the SVM model.\n",
    "    C_values : list of float\n",
    "        List of regularization parameter (C) values for the SVM model.\n",
    "    X : (N, 2) np.ndarray\n",
    "        Data matrix.\n",
    "    y : (N,) np.ndarray\n",
    "        Label vector.\n",
    "\n",
    "    Returns\n",
    "    -------\n",
    "    list of dict\n",
    "        A list of dictionaries containing the parameters of each fitted SVM model. \n",
    "    \"\"\"\n",
    "    # YOUR CODE HERE\n",
    "    raise NotImplementedError()"
   ]
  },
  {
   "cell_type": "code",
   "execution_count": null,
   "metadata": {
    "deletable": false,
    "editable": false,
    "nbgrader": {
     "cell_type": "code",
     "checksum": "3b5f97a8b628c02db6036230ad50a534",
     "grade": false,
     "grade_id": "cell-81bf304c305290b6",
     "locked": true,
     "schema_version": 3,
     "solution": false,
     "task": false
    },
    "slideshow": {
     "slide_type": ""
    },
    "tags": []
   },
   "outputs": [],
   "source": [
    "# Nothing to do here, just run the cell.\n",
    "cost_values = [10**i for i in range(-1, 4)]\n",
    "gamma_values = [0.1, 0.5 ,0.9]\n",
    "\n",
    "models_gamma_C = iter_gamma_C(gamma_values, cost_values, X_new, y_new)"
   ]
  },
  {
   "cell_type": "code",
   "execution_count": null,
   "metadata": {
    "deletable": false,
    "editable": false,
    "nbgrader": {
     "cell_type": "code",
     "checksum": "0b48d71e9895a6c324f1468209818be5",
     "grade": true,
     "grade_id": "iter_gamma_C_test",
     "locked": true,
     "points": 6,
     "schema_version": 3,
     "solution": false,
     "task": false
    },
    "slideshow": {
     "slide_type": ""
    },
    "tags": []
   },
   "outputs": [],
   "source": [
    "# DO NOT DELETE THIS CELL!\n",
    "assert isinstance(models_gamma_C, list), \"The output of iter_gamma_C is not a list!\"\n",
    "assert len(models_gamma_C) == len(C_values) * len(gamma_values), \"Some models are missing!\"\n",
    "assert all(isinstance(model, dict) for model in models_gamma_C), \"At least one of the elements in the list is not a dictionary!\""
   ]
  },
  {
   "cell_type": "markdown",
   "metadata": {
    "deletable": false,
    "editable": false,
    "nbgrader": {
     "cell_type": "markdown",
     "checksum": "5febd5a1f47d522af2ed18c18cdfd471",
     "grade": false,
     "grade_id": "cell-2f1ac3ca9eba778b",
     "locked": true,
     "schema_version": 3,
     "solution": false,
     "task": false
    },
    "slideshow": {
     "slide_type": ""
    },
    "tags": []
   },
   "source": [
    "<h3 style=\"color:rgb(210,90,80)\">Question 3.2 (5 Points):</h3>\n",
    "\n",
    "What observations can you make from your plots? Evaluate, if the given statements are true of false (several options may be correct):\n",
    "\n",
    "a3_) For a fixed $\\gamma$, the larger the cost $C$, the higher the number of support vectors.<br>\n",
    "b3_) For relatively large $C$ and relatively large $\\gamma$ (say $C \\geq 100$ and $\\gamma > 0.5$), enlarging $\\gamma$ further doens't improve your performance significantly. </u><br>\n",
    "c3_) For fixed $C$, increasing $\\gamma$ (i.e. decreasing the width of the Gaussian) typically increases the model complexity of the SVM. <br>\n",
    "d3_) For a fixed gamma value, the higher the cost, the smaller the margin.<br>\n",
    "\n",
    "To answer the question, assign `True` or `False` boolean values to variables in the next cell. For example, if you think that **a3_)** is correct, define a variable `a3_` and set it to `True`, the same applies to **b3_)** and the other options. A non-correctly answered question as well as no answer (i.e. answer “None”) yields 0 points for a specific question.<br>"
   ]
  },
  {
   "cell_type": "code",
   "execution_count": null,
   "metadata": {
    "deletable": false,
    "editable": true,
    "nbgrader": {
     "cell_type": "code",
     "checksum": "424372191fb173a46776c917bda842a5",
     "grade": false,
     "grade_id": "question_3_2",
     "locked": false,
     "schema_version": 3,
     "solution": true,
     "task": false
    },
    "slideshow": {
     "slide_type": ""
    },
    "tags": []
   },
   "outputs": [],
   "source": [
    "# YOUR CODE HERE\n",
    "raise NotImplementedError()"
   ]
  },
  {
   "cell_type": "code",
   "execution_count": null,
   "metadata": {
    "deletable": false,
    "editable": false,
    "nbgrader": {
     "cell_type": "code",
     "checksum": "a2e644b704b1e92501d32850a23d4773",
     "grade": true,
     "grade_id": "a3",
     "locked": true,
     "points": 1.25,
     "schema_version": 3,
     "solution": false,
     "task": false
    }
   },
   "outputs": [],
   "source": [
    "# DO NOT DELETE THIS CELL!\n",
    "assert a3_ is not None, \"Store True/False!\"\n",
    "assert a3_ in [True, False], \"Invalid Answer!\""
   ]
  },
  {
   "cell_type": "code",
   "execution_count": null,
   "metadata": {
    "deletable": false,
    "editable": false,
    "nbgrader": {
     "cell_type": "code",
     "checksum": "d1694a8b1194ca4e76411ad1d78949ab",
     "grade": true,
     "grade_id": "b3",
     "locked": true,
     "points": 1.25,
     "schema_version": 3,
     "solution": false,
     "task": false
    }
   },
   "outputs": [],
   "source": [
    "# DO NOT DELETE THIS CELL!\n",
    "assert b3_ is not None, \"Store True/False!\"\n",
    "assert b3_ in [True, False], \"Invalid Answer!\""
   ]
  },
  {
   "cell_type": "code",
   "execution_count": null,
   "metadata": {
    "deletable": false,
    "editable": false,
    "nbgrader": {
     "cell_type": "code",
     "checksum": "bc649c48a8c612a1d6c2cb05c3d9af9d",
     "grade": true,
     "grade_id": "c3",
     "locked": true,
     "points": 1.25,
     "schema_version": 3,
     "solution": false,
     "task": false
    }
   },
   "outputs": [],
   "source": [
    "# DO NOT DELETE THIS CELL!\n",
    "assert c3_ is not None, \"Store True/False!\"\n",
    "assert c3_ in [True, False], \"Invalid Answer!\""
   ]
  },
  {
   "cell_type": "code",
   "execution_count": null,
   "metadata": {
    "deletable": false,
    "editable": false,
    "nbgrader": {
     "cell_type": "code",
     "checksum": "56b12064900f0e67f0df3d3d13b75d11",
     "grade": true,
     "grade_id": "d3",
     "locked": true,
     "points": 1.25,
     "schema_version": 3,
     "solution": false,
     "task": false
    }
   },
   "outputs": [],
   "source": [
    "# DO NOT DELETE THIS CELL!\n",
    "assert d3_ is not None, \"Store True/False!\"\n",
    "assert d3_ in [True, False], \"Invalid Answer!\""
   ]
  },
  {
   "cell_type": "markdown",
   "metadata": {
    "deletable": false,
    "editable": false,
    "nbgrader": {
     "cell_type": "markdown",
     "checksum": "47c740427e50a8a7bdc3bc5e5e4f3a21",
     "grade": false,
     "grade_id": "cell-b33334c3723ca412",
     "locked": true,
     "schema_version": 3,
     "solution": false,
     "task": false
    },
    "slideshow": {
     "slide_type": ""
    },
    "tags": []
   },
   "source": [
    "<h2 style=\"color:rgb(0,120,170)\">Task 4: SVM with an rbf kernel and an outlier</h2>\n",
    "\n",
    "Finally, we want to investigate, how the rbf kernel classifier reacts to outliers."
   ]
  },
  {
   "cell_type": "markdown",
   "metadata": {
    "deletable": false,
    "editable": false,
    "jp-MarkdownHeadingCollapsed": true,
    "nbgrader": {
     "cell_type": "markdown",
     "checksum": "4fc263c9f2af0d1945102c5a71ee2d9b",
     "grade": false,
     "grade_id": "cell-52112aa98231be30",
     "locked": true,
     "schema_version": 3,
     "solution": false,
     "task": false
    },
    "slideshow": {
     "slide_type": ""
    },
    "tags": []
   },
   "source": [
    "*  **Code 4.1**:<br>\n",
    "    * To this end, implement the function `add_point` that adds a single (outlier) point to your new data set `X_new`,`y_new` (i.e. the data with the additional disk with $-1$ labels) and label this point with $y=+1$.\n",
    "    * We are going to use an rbf kernel and play around with the parameter to explore the effects on the classification performance by again appropriately using the `iter_gamma_C` function. We are trying out small costs $C \\sim 0.1$ and large costs $ C\\sim 1000$ and also iterate over different values of $\\gamma$, ranging from $0.1$ to $1$.\n",
    "* **Question 4.1**:<br>\n",
    "    * One last time, answer some questions about the resulting plots."
   ]
  },
  {
   "cell_type": "markdown",
   "metadata": {
    "deletable": false,
    "editable": false,
    "nbgrader": {
     "cell_type": "markdown",
     "checksum": "87130b560c62181d26ba092aad52d9c4",
     "grade": false,
     "grade_id": "cell-2030b2c0f00deb66",
     "locked": true,
     "schema_version": 3,
     "solution": false,
     "task": false
    }
   },
   "source": [
    "<h3 style=\"color:rgb(210,90,80)\">Code 4.1 (5 Points):</h3>"
   ]
  },
  {
   "cell_type": "code",
   "execution_count": null,
   "metadata": {
    "deletable": false,
    "editable": true,
    "nbgrader": {
     "cell_type": "code",
     "checksum": "5003ebbd60283b7b925ad6acfe5423fb",
     "grade": false,
     "grade_id": "add_point",
     "locked": false,
     "schema_version": 3,
     "solution": true,
     "task": false
    },
    "slideshow": {
     "slide_type": ""
    },
    "tags": []
   },
   "outputs": [],
   "source": [
    "def add_point(X: np.ndarray, y: np.ndarray, data_point: np.ndarray) -> tuple[np.ndarray, np.ndarray]:\n",
    "    \"\"\" Add a new data point to the input arrays.\n",
    "\n",
    "    This function appends a new `data_point` to the feature array `X`\n",
    "    and a label `1` to the target array `y`.\n",
    "\n",
    "    Parameters\n",
    "    ----------\n",
    "    X : (N, 2) np.ndarray\n",
    "        The data matrix containing the original data points.\n",
    "    y : (N,) np.ndarray\n",
    "        The target vector containing the original labels.\n",
    "    data_point : (1, 2) np.ndarray\n",
    "        The new datapoint to add.\n",
    "        \n",
    "    Returns\n",
    "    -------\n",
    "    tuple of np.ndarray\n",
    "        - X_new : (N+1, 2) np.ndarray\n",
    "            The updated data matrix with the new point added.\n",
    "        - y_new : (N+1,) np.ndarray\n",
    "            The updated target vector with the new label added.\n",
    "    \"\"\"\n",
    "    # YOUR CODE HERE\n",
    "    raise NotImplementedError()"
   ]
  },
  {
   "cell_type": "code",
   "execution_count": null,
   "metadata": {
    "deletable": false,
    "editable": false,
    "nbgrader": {
     "cell_type": "code",
     "checksum": "0bf116bc50636b66b39705a8367bd7db",
     "grade": true,
     "grade_id": "add_point_test",
     "locked": true,
     "points": 5,
     "schema_version": 3,
     "solution": false,
     "task": false
    },
    "slideshow": {
     "slide_type": ""
    },
    "tags": []
   },
   "outputs": [],
   "source": [
    "outlier = np.array([[1.8, -1.3]])\n",
    "X_with_outlier, y_with_outlier = add_point(X_new, y_new, outlier)\n",
    "\n",
    "assert isinstance(X_with_outlier, np.ndarray) and isinstance(y_with_outlier, np.ndarray), \"Both outputs of add_point should be of type np.ndarray!\"\n",
    "assert X_with_outlier.shape == (X_new.shape[0]+1, X_new.shape[1]), \"You should add exactly 1 data point!\"\n",
    "np.testing.assert_array_equal(X_with_outlier[-1:], outlier)\n",
    "assert y_with_outlier[-1] == 1, \"The label of the outlier should be +1!\""
   ]
  },
  {
   "cell_type": "code",
   "execution_count": null,
   "metadata": {
    "deletable": false,
    "editable": false,
    "nbgrader": {
     "cell_type": "code",
     "checksum": "8600bc5e42241a06092448494b924633",
     "grade": false,
     "grade_id": "cell-8d4c280e492f1477",
     "locked": true,
     "schema_version": 3,
     "solution": false,
     "task": false
    }
   },
   "outputs": [],
   "source": [
    "plot_data(X_with_outlier, y_with_outlier)"
   ]
  },
  {
   "cell_type": "code",
   "execution_count": null,
   "metadata": {
    "deletable": false,
    "editable": false,
    "nbgrader": {
     "cell_type": "code",
     "checksum": "d338b4ceca5b286f1f6e0340cf0730c1",
     "grade": false,
     "grade_id": "cell-d7c5477ab9b09a56",
     "locked": true,
     "schema_version": 3,
     "solution": false,
     "task": false
    },
    "slideshow": {
     "slide_type": ""
    },
    "tags": []
   },
   "outputs": [],
   "source": [
    "_ = iter_gamma_C(gamma_values, cost_values, X_with_outlier, y_with_outlier)"
   ]
  },
  {
   "cell_type": "markdown",
   "metadata": {
    "deletable": false,
    "editable": false,
    "nbgrader": {
     "cell_type": "markdown",
     "checksum": "93c73bfc7f1fc0369335dd900503eba9",
     "grade": false,
     "grade_id": "cell-789911aba5bedee3",
     "locked": true,
     "schema_version": 3,
     "solution": false,
     "task": false
    },
    "slideshow": {
     "slide_type": ""
    },
    "tags": []
   },
   "source": [
    "<h3 style=\"color:rgb(210,90,80)\">Question 4.1 (5 Points):</h3>\n",
    "\n",
    "What observations can you make from your plots? Tick the correct boxes:\n",
    "\n",
    "a4_)  For relatively low costs (e.g. $C\\le 1$) and an appropriately chosen $\\gamma$ (e.g. $0.9$) the classifier correctly classifies all points except for the outlier. <br>\n",
    "b4_)  For relatively high costs (e.g. $C\\geq 100$) the classifier always, i.e. independent of $\\gamma$, shows a region of the positive class near the outlier.<br>\n",
    "c4_)  Classifiers with high costs ($C\\geq 100$ say) and high $\\gamma$ ($ \\gamma \\geq 0.5$) are susceptible to overfitting.<br>\n",
    "d4_)  For relatively high costs ($C\\geq 100$) and small $\\gamma$ (0.1), the SVM correctly classifies except for the outlier.<br>\n",
    "\n",
    "To answer the question, assign `True` or `False` boolean values to variables in the next cell. For example, if you think that **a4_)** is correct, define a variable `a4_` and set it to `True`, the same applies to **b4_)** and the other options. A non-correctly answered question as well as no answer (i.e. answer “None”) yields 0 points for a specific question.<br>"
   ]
  },
  {
   "cell_type": "code",
   "execution_count": null,
   "metadata": {
    "deletable": false,
    "nbgrader": {
     "cell_type": "code",
     "checksum": "763ae7620bc2dc56217ab7b66cdea520",
     "grade": false,
     "grade_id": "question_4_1",
     "locked": false,
     "schema_version": 3,
     "solution": true,
     "task": false
    }
   },
   "outputs": [],
   "source": [
    "# YOUR CODE HERE\n",
    "raise NotImplementedError()"
   ]
  },
  {
   "cell_type": "code",
   "execution_count": null,
   "metadata": {
    "deletable": false,
    "editable": false,
    "nbgrader": {
     "cell_type": "code",
     "checksum": "47ade380bd4a215d565eb0c6f2b034b0",
     "grade": true,
     "grade_id": "a4",
     "locked": true,
     "points": 1.25,
     "schema_version": 3,
     "solution": false,
     "task": false
    }
   },
   "outputs": [],
   "source": [
    "# DO NOT DELETE THIS CELL!\n",
    "assert a4_ is not None, \"Store True/False!\"\n",
    "assert a4_ in [True, False], \"Invalid Answer!\""
   ]
  },
  {
   "cell_type": "code",
   "execution_count": null,
   "metadata": {
    "deletable": false,
    "editable": false,
    "nbgrader": {
     "cell_type": "code",
     "checksum": "b9f777d2b2ae7cc84a8300b00af9f5e4",
     "grade": true,
     "grade_id": "b4",
     "locked": true,
     "points": 1.25,
     "schema_version": 3,
     "solution": false,
     "task": false
    }
   },
   "outputs": [],
   "source": [
    "# DO NOT DELETE THIS CELL!\n",
    "assert b4_ is not None, \"Store True/False!\"\n",
    "assert b4_ in [True, False], \"Invalid Answer!\""
   ]
  },
  {
   "cell_type": "code",
   "execution_count": null,
   "metadata": {
    "deletable": false,
    "editable": false,
    "nbgrader": {
     "cell_type": "code",
     "checksum": "2fa0d51732cde7c1f060f81eb4d350ab",
     "grade": true,
     "grade_id": "c4",
     "locked": true,
     "points": 1.25,
     "schema_version": 3,
     "solution": false,
     "task": false
    }
   },
   "outputs": [],
   "source": [
    "# DO NOT DELETE THIS CELL!\n",
    "assert c4_ is not None, \"Store True/False!\"\n",
    "assert c4_ in [True, False], \"Invalid Answer!\""
   ]
  },
  {
   "cell_type": "code",
   "execution_count": null,
   "metadata": {
    "deletable": false,
    "editable": false,
    "nbgrader": {
     "cell_type": "code",
     "checksum": "bc03e0b231c9c20af1453bc733380285",
     "grade": true,
     "grade_id": "d4",
     "locked": true,
     "points": 1.25,
     "schema_version": 3,
     "solution": false,
     "task": false
    }
   },
   "outputs": [],
   "source": [
    "# DO NOT DELETE THIS CELL!\n",
    "assert d4_ is not None, \"Store True/False!\"\n",
    "assert d4_ in [True, False], \"Invalid Answer!\""
   ]
  }
 ],
 "metadata": {
  "kernelspec": {
   "display_name": "mlst",
   "language": "python",
   "name": "python3"
  },
  "language_info": {
   "codemirror_mode": {
    "name": "ipython",
    "version": 3
   },
   "file_extension": ".py",
   "mimetype": "text/x-python",
   "name": "python",
   "nbconvert_exporter": "python",
   "pygments_lexer": "ipython3",
   "version": "3.11.10"
  }
 },
 "nbformat": 4,
 "nbformat_minor": 4
}
